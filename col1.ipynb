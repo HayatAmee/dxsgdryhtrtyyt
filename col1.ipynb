{
  "nbformat": 4,
  "nbformat_minor": 0,
  "metadata": {
    "colab": {
      "provenance": [],
      "authorship_tag": "ABX9TyNAvMDsPItZGMf5pUYfVe7j"
    },
    "kernelspec": {
      "name": "python3",
      "display_name": "Python 3"
    },
    "language_info": {
      "name": "python"
    },
    "accelerator": "TPU"
  },
  "cells": [
    {
      "cell_type": "code",
      "execution_count": null,
      "metadata": {
        "id": "d53eJfaoWLEC"
      },
      "outputs": [],
      "source": [
        "y=0;"
      ]
    }
  ]
}